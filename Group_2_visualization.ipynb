{
 "cells": [
  {
   "cell_type": "code",
   "execution_count": 1,
   "id": "e8ad764d",
   "metadata": {},
   "outputs": [],
   "source": [
    "import numpy as np \n",
    "import pandas as pd\n",
    "import matplotlib.pyplot as plt \n",
    "import seaborn as sns\n",
    "from sklearn.preprocessing import MinMaxScaler"
   ]
  },
  {
   "cell_type": "code",
   "execution_count": 2,
   "id": "b9ea12ca",
   "metadata": {},
   "outputs": [],
   "source": [
    "#reading the dataset\n",
    "df = pd.read_csv(\"Group_2_data_cleaned.csv\")"
   ]
  },
  {
   "cell_type": "code",
   "execution_count": 3,
   "id": "a37d3b69",
   "metadata": {},
   "outputs": [],
   "source": [
    "#Dropping the unnamed column\n",
    "df=df.drop('Unnamed: 0',axis=1)"
   ]
  },
  {
   "cell_type": "code",
   "execution_count": 4,
   "id": "f38cb8a8",
   "metadata": {},
   "outputs": [
    {
     "data": {
      "text/html": [
       "<div>\n",
       "<style scoped>\n",
       "    .dataframe tbody tr th:only-of-type {\n",
       "        vertical-align: middle;\n",
       "    }\n",
       "\n",
       "    .dataframe tbody tr th {\n",
       "        vertical-align: top;\n",
       "    }\n",
       "\n",
       "    .dataframe thead th {\n",
       "        text-align: right;\n",
       "    }\n",
       "</style>\n",
       "<table border=\"1\" class=\"dataframe\">\n",
       "  <thead>\n",
       "    <tr style=\"text-align: right;\">\n",
       "      <th></th>\n",
       "      <th>SFH</th>\n",
       "      <th>popUpWidnow</th>\n",
       "      <th>SSLfinal_State</th>\n",
       "      <th>Request_URL</th>\n",
       "      <th>URL_of_Anchor</th>\n",
       "      <th>web_traffic</th>\n",
       "      <th>URL_Length</th>\n",
       "      <th>age_of_domain</th>\n",
       "      <th>having_IP_Address</th>\n",
       "    </tr>\n",
       "  </thead>\n",
       "  <tbody>\n",
       "    <tr>\n",
       "      <th>0</th>\n",
       "      <td>1</td>\n",
       "      <td>-1</td>\n",
       "      <td>1</td>\n",
       "      <td>-1</td>\n",
       "      <td>-1</td>\n",
       "      <td>1</td>\n",
       "      <td>1</td>\n",
       "      <td>1</td>\n",
       "      <td>0</td>\n",
       "    </tr>\n",
       "    <tr>\n",
       "      <th>1</th>\n",
       "      <td>-1</td>\n",
       "      <td>-1</td>\n",
       "      <td>-1</td>\n",
       "      <td>-1</td>\n",
       "      <td>-1</td>\n",
       "      <td>0</td>\n",
       "      <td>1</td>\n",
       "      <td>1</td>\n",
       "      <td>1</td>\n",
       "    </tr>\n",
       "    <tr>\n",
       "      <th>2</th>\n",
       "      <td>1</td>\n",
       "      <td>-1</td>\n",
       "      <td>0</td>\n",
       "      <td>0</td>\n",
       "      <td>-1</td>\n",
       "      <td>0</td>\n",
       "      <td>-1</td>\n",
       "      <td>1</td>\n",
       "      <td>0</td>\n",
       "    </tr>\n",
       "    <tr>\n",
       "      <th>3</th>\n",
       "      <td>1</td>\n",
       "      <td>0</td>\n",
       "      <td>1</td>\n",
       "      <td>-1</td>\n",
       "      <td>-1</td>\n",
       "      <td>0</td>\n",
       "      <td>1</td>\n",
       "      <td>1</td>\n",
       "      <td>0</td>\n",
       "    </tr>\n",
       "    <tr>\n",
       "      <th>4</th>\n",
       "      <td>-1</td>\n",
       "      <td>-1</td>\n",
       "      <td>1</td>\n",
       "      <td>-1</td>\n",
       "      <td>0</td>\n",
       "      <td>0</td>\n",
       "      <td>-1</td>\n",
       "      <td>1</td>\n",
       "      <td>0</td>\n",
       "    </tr>\n",
       "    <tr>\n",
       "      <th>...</th>\n",
       "      <td>...</td>\n",
       "      <td>...</td>\n",
       "      <td>...</td>\n",
       "      <td>...</td>\n",
       "      <td>...</td>\n",
       "      <td>...</td>\n",
       "      <td>...</td>\n",
       "      <td>...</td>\n",
       "      <td>...</td>\n",
       "    </tr>\n",
       "    <tr>\n",
       "      <th>1348</th>\n",
       "      <td>-1</td>\n",
       "      <td>-1</td>\n",
       "      <td>-1</td>\n",
       "      <td>-1</td>\n",
       "      <td>-1</td>\n",
       "      <td>-1</td>\n",
       "      <td>0</td>\n",
       "      <td>1</td>\n",
       "      <td>0</td>\n",
       "    </tr>\n",
       "    <tr>\n",
       "      <th>1349</th>\n",
       "      <td>-1</td>\n",
       "      <td>0</td>\n",
       "      <td>1</td>\n",
       "      <td>0</td>\n",
       "      <td>-1</td>\n",
       "      <td>0</td>\n",
       "      <td>0</td>\n",
       "      <td>1</td>\n",
       "      <td>0</td>\n",
       "    </tr>\n",
       "    <tr>\n",
       "      <th>1350</th>\n",
       "      <td>-1</td>\n",
       "      <td>0</td>\n",
       "      <td>-1</td>\n",
       "      <td>-1</td>\n",
       "      <td>-1</td>\n",
       "      <td>0</td>\n",
       "      <td>-1</td>\n",
       "      <td>-1</td>\n",
       "      <td>0</td>\n",
       "    </tr>\n",
       "    <tr>\n",
       "      <th>1351</th>\n",
       "      <td>0</td>\n",
       "      <td>0</td>\n",
       "      <td>1</td>\n",
       "      <td>0</td>\n",
       "      <td>0</td>\n",
       "      <td>0</td>\n",
       "      <td>-1</td>\n",
       "      <td>1</td>\n",
       "      <td>0</td>\n",
       "    </tr>\n",
       "    <tr>\n",
       "      <th>1352</th>\n",
       "      <td>1</td>\n",
       "      <td>0</td>\n",
       "      <td>1</td>\n",
       "      <td>1</td>\n",
       "      <td>1</td>\n",
       "      <td>0</td>\n",
       "      <td>-1</td>\n",
       "      <td>-1</td>\n",
       "      <td>0</td>\n",
       "    </tr>\n",
       "  </tbody>\n",
       "</table>\n",
       "<p>1353 rows × 9 columns</p>\n",
       "</div>"
      ],
      "text/plain": [
       "      SFH  popUpWidnow  SSLfinal_State  Request_URL  URL_of_Anchor  \\\n",
       "0       1           -1               1           -1             -1   \n",
       "1      -1           -1              -1           -1             -1   \n",
       "2       1           -1               0            0             -1   \n",
       "3       1            0               1           -1             -1   \n",
       "4      -1           -1               1           -1              0   \n",
       "...   ...          ...             ...          ...            ...   \n",
       "1348   -1           -1              -1           -1             -1   \n",
       "1349   -1            0               1            0             -1   \n",
       "1350   -1            0              -1           -1             -1   \n",
       "1351    0            0               1            0              0   \n",
       "1352    1            0               1            1              1   \n",
       "\n",
       "      web_traffic  URL_Length  age_of_domain  having_IP_Address  \n",
       "0               1           1              1                  0  \n",
       "1               0           1              1                  1  \n",
       "2               0          -1              1                  0  \n",
       "3               0           1              1                  0  \n",
       "4               0          -1              1                  0  \n",
       "...           ...         ...            ...                ...  \n",
       "1348           -1           0              1                  0  \n",
       "1349            0           0              1                  0  \n",
       "1350            0          -1             -1                  0  \n",
       "1351            0          -1              1                  0  \n",
       "1352            0          -1             -1                  0  \n",
       "\n",
       "[1353 rows x 9 columns]"
      ]
     },
     "execution_count": 4,
     "metadata": {},
     "output_type": "execute_result"
    }
   ],
   "source": [
    "#slicing the dataset\n",
    "x = df.iloc[:,:-1]\n",
    "x"
   ]
  },
  {
   "cell_type": "code",
   "execution_count": 27,
   "id": "0aaa70ae",
   "metadata": {},
   "outputs": [],
   "source": [
    "# y = df.iloc[:,-1]\n",
    "y=df[\"Result\"]"
   ]
  },
  {
   "cell_type": "code",
   "execution_count": 6,
   "id": "624a98e4",
   "metadata": {},
   "outputs": [
    {
     "name": "stderr",
     "output_type": "stream",
     "text": [
      "C:\\Users\\Student\\AppData\\Local\\Temp\\ipykernel_18060\\121688446.py:8: SettingWithCopyWarning: \n",
      "A value is trying to be set on a copy of a slice from a DataFrame.\n",
      "Try using .loc[row_indexer,col_indexer] = value instead\n",
      "\n",
      "See the caveats in the documentation: https://pandas.pydata.org/pandas-docs/stable/user_guide/indexing.html#returning-a-view-versus-a-copy\n",
      "  x[column] = scaler.transform(x[[column]])\n",
      "C:\\Users\\Student\\AppData\\Local\\Temp\\ipykernel_18060\\121688446.py:8: SettingWithCopyWarning: \n",
      "A value is trying to be set on a copy of a slice from a DataFrame.\n",
      "Try using .loc[row_indexer,col_indexer] = value instead\n",
      "\n",
      "See the caveats in the documentation: https://pandas.pydata.org/pandas-docs/stable/user_guide/indexing.html#returning-a-view-versus-a-copy\n",
      "  x[column] = scaler.transform(x[[column]])\n",
      "C:\\Users\\Student\\AppData\\Local\\Temp\\ipykernel_18060\\121688446.py:8: SettingWithCopyWarning: \n",
      "A value is trying to be set on a copy of a slice from a DataFrame.\n",
      "Try using .loc[row_indexer,col_indexer] = value instead\n",
      "\n",
      "See the caveats in the documentation: https://pandas.pydata.org/pandas-docs/stable/user_guide/indexing.html#returning-a-view-versus-a-copy\n",
      "  x[column] = scaler.transform(x[[column]])\n",
      "C:\\Users\\Student\\AppData\\Local\\Temp\\ipykernel_18060\\121688446.py:8: SettingWithCopyWarning: \n",
      "A value is trying to be set on a copy of a slice from a DataFrame.\n",
      "Try using .loc[row_indexer,col_indexer] = value instead\n",
      "\n",
      "See the caveats in the documentation: https://pandas.pydata.org/pandas-docs/stable/user_guide/indexing.html#returning-a-view-versus-a-copy\n",
      "  x[column] = scaler.transform(x[[column]])\n",
      "C:\\Users\\Student\\AppData\\Local\\Temp\\ipykernel_18060\\121688446.py:8: SettingWithCopyWarning: \n",
      "A value is trying to be set on a copy of a slice from a DataFrame.\n",
      "Try using .loc[row_indexer,col_indexer] = value instead\n",
      "\n",
      "See the caveats in the documentation: https://pandas.pydata.org/pandas-docs/stable/user_guide/indexing.html#returning-a-view-versus-a-copy\n",
      "  x[column] = scaler.transform(x[[column]])\n",
      "C:\\Users\\Student\\AppData\\Local\\Temp\\ipykernel_18060\\121688446.py:8: SettingWithCopyWarning: \n",
      "A value is trying to be set on a copy of a slice from a DataFrame.\n",
      "Try using .loc[row_indexer,col_indexer] = value instead\n",
      "\n",
      "See the caveats in the documentation: https://pandas.pydata.org/pandas-docs/stable/user_guide/indexing.html#returning-a-view-versus-a-copy\n",
      "  x[column] = scaler.transform(x[[column]])\n",
      "C:\\Users\\Student\\AppData\\Local\\Temp\\ipykernel_18060\\121688446.py:8: SettingWithCopyWarning: \n",
      "A value is trying to be set on a copy of a slice from a DataFrame.\n",
      "Try using .loc[row_indexer,col_indexer] = value instead\n",
      "\n",
      "See the caveats in the documentation: https://pandas.pydata.org/pandas-docs/stable/user_guide/indexing.html#returning-a-view-versus-a-copy\n",
      "  x[column] = scaler.transform(x[[column]])\n",
      "C:\\Users\\Student\\AppData\\Local\\Temp\\ipykernel_18060\\121688446.py:8: SettingWithCopyWarning: \n",
      "A value is trying to be set on a copy of a slice from a DataFrame.\n",
      "Try using .loc[row_indexer,col_indexer] = value instead\n",
      "\n",
      "See the caveats in the documentation: https://pandas.pydata.org/pandas-docs/stable/user_guide/indexing.html#returning-a-view-versus-a-copy\n",
      "  x[column] = scaler.transform(x[[column]])\n",
      "C:\\Users\\Student\\AppData\\Local\\Temp\\ipykernel_18060\\121688446.py:8: SettingWithCopyWarning: \n",
      "A value is trying to be set on a copy of a slice from a DataFrame.\n",
      "Try using .loc[row_indexer,col_indexer] = value instead\n",
      "\n",
      "See the caveats in the documentation: https://pandas.pydata.org/pandas-docs/stable/user_guide/indexing.html#returning-a-view-versus-a-copy\n",
      "  x[column] = scaler.transform(x[[column]])\n"
     ]
    },
    {
     "data": {
      "text/html": [
       "<div>\n",
       "<style scoped>\n",
       "    .dataframe tbody tr th:only-of-type {\n",
       "        vertical-align: middle;\n",
       "    }\n",
       "\n",
       "    .dataframe tbody tr th {\n",
       "        vertical-align: top;\n",
       "    }\n",
       "\n",
       "    .dataframe thead th {\n",
       "        text-align: right;\n",
       "    }\n",
       "</style>\n",
       "<table border=\"1\" class=\"dataframe\">\n",
       "  <thead>\n",
       "    <tr style=\"text-align: right;\">\n",
       "      <th></th>\n",
       "      <th>SFH</th>\n",
       "      <th>popUpWidnow</th>\n",
       "      <th>SSLfinal_State</th>\n",
       "      <th>Request_URL</th>\n",
       "      <th>URL_of_Anchor</th>\n",
       "      <th>web_traffic</th>\n",
       "      <th>URL_Length</th>\n",
       "      <th>age_of_domain</th>\n",
       "      <th>having_IP_Address</th>\n",
       "    </tr>\n",
       "  </thead>\n",
       "  <tbody>\n",
       "    <tr>\n",
       "      <th>0</th>\n",
       "      <td>1.0</td>\n",
       "      <td>0.0</td>\n",
       "      <td>1.0</td>\n",
       "      <td>0.0</td>\n",
       "      <td>0.0</td>\n",
       "      <td>1.0</td>\n",
       "      <td>1.0</td>\n",
       "      <td>1.0</td>\n",
       "      <td>0.0</td>\n",
       "    </tr>\n",
       "    <tr>\n",
       "      <th>1</th>\n",
       "      <td>0.0</td>\n",
       "      <td>0.0</td>\n",
       "      <td>0.0</td>\n",
       "      <td>0.0</td>\n",
       "      <td>0.0</td>\n",
       "      <td>0.5</td>\n",
       "      <td>1.0</td>\n",
       "      <td>1.0</td>\n",
       "      <td>1.0</td>\n",
       "    </tr>\n",
       "    <tr>\n",
       "      <th>2</th>\n",
       "      <td>1.0</td>\n",
       "      <td>0.0</td>\n",
       "      <td>0.5</td>\n",
       "      <td>0.5</td>\n",
       "      <td>0.0</td>\n",
       "      <td>0.5</td>\n",
       "      <td>0.0</td>\n",
       "      <td>1.0</td>\n",
       "      <td>0.0</td>\n",
       "    </tr>\n",
       "    <tr>\n",
       "      <th>3</th>\n",
       "      <td>1.0</td>\n",
       "      <td>0.5</td>\n",
       "      <td>1.0</td>\n",
       "      <td>0.0</td>\n",
       "      <td>0.0</td>\n",
       "      <td>0.5</td>\n",
       "      <td>1.0</td>\n",
       "      <td>1.0</td>\n",
       "      <td>0.0</td>\n",
       "    </tr>\n",
       "    <tr>\n",
       "      <th>4</th>\n",
       "      <td>0.0</td>\n",
       "      <td>0.0</td>\n",
       "      <td>1.0</td>\n",
       "      <td>0.0</td>\n",
       "      <td>0.5</td>\n",
       "      <td>0.5</td>\n",
       "      <td>0.0</td>\n",
       "      <td>1.0</td>\n",
       "      <td>0.0</td>\n",
       "    </tr>\n",
       "    <tr>\n",
       "      <th>...</th>\n",
       "      <td>...</td>\n",
       "      <td>...</td>\n",
       "      <td>...</td>\n",
       "      <td>...</td>\n",
       "      <td>...</td>\n",
       "      <td>...</td>\n",
       "      <td>...</td>\n",
       "      <td>...</td>\n",
       "      <td>...</td>\n",
       "    </tr>\n",
       "    <tr>\n",
       "      <th>1348</th>\n",
       "      <td>0.0</td>\n",
       "      <td>0.0</td>\n",
       "      <td>0.0</td>\n",
       "      <td>0.0</td>\n",
       "      <td>0.0</td>\n",
       "      <td>0.0</td>\n",
       "      <td>0.5</td>\n",
       "      <td>1.0</td>\n",
       "      <td>0.0</td>\n",
       "    </tr>\n",
       "    <tr>\n",
       "      <th>1349</th>\n",
       "      <td>0.0</td>\n",
       "      <td>0.5</td>\n",
       "      <td>1.0</td>\n",
       "      <td>0.5</td>\n",
       "      <td>0.0</td>\n",
       "      <td>0.5</td>\n",
       "      <td>0.5</td>\n",
       "      <td>1.0</td>\n",
       "      <td>0.0</td>\n",
       "    </tr>\n",
       "    <tr>\n",
       "      <th>1350</th>\n",
       "      <td>0.0</td>\n",
       "      <td>0.5</td>\n",
       "      <td>0.0</td>\n",
       "      <td>0.0</td>\n",
       "      <td>0.0</td>\n",
       "      <td>0.5</td>\n",
       "      <td>0.0</td>\n",
       "      <td>0.0</td>\n",
       "      <td>0.0</td>\n",
       "    </tr>\n",
       "    <tr>\n",
       "      <th>1351</th>\n",
       "      <td>0.5</td>\n",
       "      <td>0.5</td>\n",
       "      <td>1.0</td>\n",
       "      <td>0.5</td>\n",
       "      <td>0.5</td>\n",
       "      <td>0.5</td>\n",
       "      <td>0.0</td>\n",
       "      <td>1.0</td>\n",
       "      <td>0.0</td>\n",
       "    </tr>\n",
       "    <tr>\n",
       "      <th>1352</th>\n",
       "      <td>1.0</td>\n",
       "      <td>0.5</td>\n",
       "      <td>1.0</td>\n",
       "      <td>1.0</td>\n",
       "      <td>1.0</td>\n",
       "      <td>0.5</td>\n",
       "      <td>0.0</td>\n",
       "      <td>0.0</td>\n",
       "      <td>0.0</td>\n",
       "    </tr>\n",
       "  </tbody>\n",
       "</table>\n",
       "<p>1353 rows × 9 columns</p>\n",
       "</div>"
      ],
      "text/plain": [
       "      SFH  popUpWidnow  SSLfinal_State  Request_URL  URL_of_Anchor  \\\n",
       "0     1.0          0.0             1.0          0.0            0.0   \n",
       "1     0.0          0.0             0.0          0.0            0.0   \n",
       "2     1.0          0.0             0.5          0.5            0.0   \n",
       "3     1.0          0.5             1.0          0.0            0.0   \n",
       "4     0.0          0.0             1.0          0.0            0.5   \n",
       "...   ...          ...             ...          ...            ...   \n",
       "1348  0.0          0.0             0.0          0.0            0.0   \n",
       "1349  0.0          0.5             1.0          0.5            0.0   \n",
       "1350  0.0          0.5             0.0          0.0            0.0   \n",
       "1351  0.5          0.5             1.0          0.5            0.5   \n",
       "1352  1.0          0.5             1.0          1.0            1.0   \n",
       "\n",
       "      web_traffic  URL_Length  age_of_domain  having_IP_Address  \n",
       "0             1.0         1.0            1.0                0.0  \n",
       "1             0.5         1.0            1.0                1.0  \n",
       "2             0.5         0.0            1.0                0.0  \n",
       "3             0.5         1.0            1.0                0.0  \n",
       "4             0.5         0.0            1.0                0.0  \n",
       "...           ...         ...            ...                ...  \n",
       "1348          0.0         0.5            1.0                0.0  \n",
       "1349          0.5         0.5            1.0                0.0  \n",
       "1350          0.5         0.0            0.0                0.0  \n",
       "1351          0.5         0.0            1.0                0.0  \n",
       "1352          0.5         0.0            0.0                0.0  \n",
       "\n",
       "[1353 rows x 9 columns]"
      ]
     },
     "execution_count": 6,
     "metadata": {},
     "output_type": "execute_result"
    }
   ],
   "source": [
    "col = x.columns\n",
    "col\n",
    "\n",
    "scaler = MinMaxScaler()\n",
    "\n",
    "for column in col:\n",
    "    scaler.fit(x[[column]])\n",
    "    x[column] = scaler.transform(x[[column]])\n",
    "x"
   ]
  },
  {
   "cell_type": "markdown",
   "id": "6c4d01c7",
   "metadata": {},
   "source": [
    "## PCA  Linear Dimentionality reduction"
   ]
  },
  {
   "cell_type": "code",
   "execution_count": 7,
   "id": "440a878e",
   "metadata": {},
   "outputs": [],
   "source": [
    "from sklearn.decomposition import PCA"
   ]
  },
  {
   "cell_type": "code",
   "execution_count": 8,
   "id": "565c237e",
   "metadata": {},
   "outputs": [],
   "source": [
    "pca = PCA(n_components = 9)"
   ]
  },
  {
   "cell_type": "code",
   "execution_count": 9,
   "id": "45bf5a75",
   "metadata": {},
   "outputs": [
    {
     "data": {
      "text/html": [
       "<style>#sk-container-id-1 {color: black;background-color: white;}#sk-container-id-1 pre{padding: 0;}#sk-container-id-1 div.sk-toggleable {background-color: white;}#sk-container-id-1 label.sk-toggleable__label {cursor: pointer;display: block;width: 100%;margin-bottom: 0;padding: 0.3em;box-sizing: border-box;text-align: center;}#sk-container-id-1 label.sk-toggleable__label-arrow:before {content: \"▸\";float: left;margin-right: 0.25em;color: #696969;}#sk-container-id-1 label.sk-toggleable__label-arrow:hover:before {color: black;}#sk-container-id-1 div.sk-estimator:hover label.sk-toggleable__label-arrow:before {color: black;}#sk-container-id-1 div.sk-toggleable__content {max-height: 0;max-width: 0;overflow: hidden;text-align: left;background-color: #f0f8ff;}#sk-container-id-1 div.sk-toggleable__content pre {margin: 0.2em;color: black;border-radius: 0.25em;background-color: #f0f8ff;}#sk-container-id-1 input.sk-toggleable__control:checked~div.sk-toggleable__content {max-height: 200px;max-width: 100%;overflow: auto;}#sk-container-id-1 input.sk-toggleable__control:checked~label.sk-toggleable__label-arrow:before {content: \"▾\";}#sk-container-id-1 div.sk-estimator input.sk-toggleable__control:checked~label.sk-toggleable__label {background-color: #d4ebff;}#sk-container-id-1 div.sk-label input.sk-toggleable__control:checked~label.sk-toggleable__label {background-color: #d4ebff;}#sk-container-id-1 input.sk-hidden--visually {border: 0;clip: rect(1px 1px 1px 1px);clip: rect(1px, 1px, 1px, 1px);height: 1px;margin: -1px;overflow: hidden;padding: 0;position: absolute;width: 1px;}#sk-container-id-1 div.sk-estimator {font-family: monospace;background-color: #f0f8ff;border: 1px dotted black;border-radius: 0.25em;box-sizing: border-box;margin-bottom: 0.5em;}#sk-container-id-1 div.sk-estimator:hover {background-color: #d4ebff;}#sk-container-id-1 div.sk-parallel-item::after {content: \"\";width: 100%;border-bottom: 1px solid gray;flex-grow: 1;}#sk-container-id-1 div.sk-label:hover label.sk-toggleable__label {background-color: #d4ebff;}#sk-container-id-1 div.sk-serial::before {content: \"\";position: absolute;border-left: 1px solid gray;box-sizing: border-box;top: 0;bottom: 0;left: 50%;z-index: 0;}#sk-container-id-1 div.sk-serial {display: flex;flex-direction: column;align-items: center;background-color: white;padding-right: 0.2em;padding-left: 0.2em;position: relative;}#sk-container-id-1 div.sk-item {position: relative;z-index: 1;}#sk-container-id-1 div.sk-parallel {display: flex;align-items: stretch;justify-content: center;background-color: white;position: relative;}#sk-container-id-1 div.sk-item::before, #sk-container-id-1 div.sk-parallel-item::before {content: \"\";position: absolute;border-left: 1px solid gray;box-sizing: border-box;top: 0;bottom: 0;left: 50%;z-index: -1;}#sk-container-id-1 div.sk-parallel-item {display: flex;flex-direction: column;z-index: 1;position: relative;background-color: white;}#sk-container-id-1 div.sk-parallel-item:first-child::after {align-self: flex-end;width: 50%;}#sk-container-id-1 div.sk-parallel-item:last-child::after {align-self: flex-start;width: 50%;}#sk-container-id-1 div.sk-parallel-item:only-child::after {width: 0;}#sk-container-id-1 div.sk-dashed-wrapped {border: 1px dashed gray;margin: 0 0.4em 0.5em 0.4em;box-sizing: border-box;padding-bottom: 0.4em;background-color: white;}#sk-container-id-1 div.sk-label label {font-family: monospace;font-weight: bold;display: inline-block;line-height: 1.2em;}#sk-container-id-1 div.sk-label-container {text-align: center;}#sk-container-id-1 div.sk-container {/* jupyter's `normalize.less` sets `[hidden] { display: none; }` but bootstrap.min.css set `[hidden] { display: none !important; }` so we also need the `!important` here to be able to override the default hidden behavior on the sphinx rendered scikit-learn.org. See: https://github.com/scikit-learn/scikit-learn/issues/21755 */display: inline-block !important;position: relative;}#sk-container-id-1 div.sk-text-repr-fallback {display: none;}</style><div id=\"sk-container-id-1\" class=\"sk-top-container\"><div class=\"sk-text-repr-fallback\"><pre>PCA(n_components=9)</pre><b>In a Jupyter environment, please rerun this cell to show the HTML representation or trust the notebook. <br />On GitHub, the HTML representation is unable to render, please try loading this page with nbviewer.org.</b></div><div class=\"sk-container\" hidden><div class=\"sk-item\"><div class=\"sk-estimator sk-toggleable\"><input class=\"sk-toggleable__control sk-hidden--visually\" id=\"sk-estimator-id-1\" type=\"checkbox\" checked><label for=\"sk-estimator-id-1\" class=\"sk-toggleable__label sk-toggleable__label-arrow\">PCA</label><div class=\"sk-toggleable__content\"><pre>PCA(n_components=9)</pre></div></div></div></div></div>"
      ],
      "text/plain": [
       "PCA(n_components=9)"
      ]
     },
     "execution_count": 9,
     "metadata": {},
     "output_type": "execute_result"
    }
   ],
   "source": [
    "pca.fit(x)"
   ]
  },
  {
   "cell_type": "code",
   "execution_count": 10,
   "id": "7c50ec92",
   "metadata": {},
   "outputs": [
    {
     "data": {
      "text/plain": [
       "array([28.52, 18.87, 12.31,  9.54,  7.86,  7.34,  6.43,  5.28,  3.84])"
      ]
     },
     "execution_count": 10,
     "metadata": {},
     "output_type": "execute_result"
    }
   ],
   "source": [
    "per_var = np.round(pca.explained_variance_ratio_*100, 2)\n",
    "per_var"
   ]
  },
  {
   "cell_type": "code",
   "execution_count": 11,
   "id": "f8103bd5",
   "metadata": {},
   "outputs": [
    {
     "data": {
      "text/html": [
       "<div>\n",
       "<style scoped>\n",
       "    .dataframe tbody tr th:only-of-type {\n",
       "        vertical-align: middle;\n",
       "    }\n",
       "\n",
       "    .dataframe tbody tr th {\n",
       "        vertical-align: top;\n",
       "    }\n",
       "\n",
       "    .dataframe thead th {\n",
       "        text-align: right;\n",
       "    }\n",
       "</style>\n",
       "<table border=\"1\" class=\"dataframe\">\n",
       "  <thead>\n",
       "    <tr style=\"text-align: right;\">\n",
       "      <th></th>\n",
       "      <th>PC1</th>\n",
       "      <th>PC2</th>\n",
       "      <th>PC3</th>\n",
       "      <th>PC4</th>\n",
       "      <th>PC5</th>\n",
       "      <th>PC6</th>\n",
       "      <th>PC7</th>\n",
       "      <th>PC8</th>\n",
       "      <th>PC9</th>\n",
       "    </tr>\n",
       "  </thead>\n",
       "  <tbody>\n",
       "    <tr>\n",
       "      <th>SFH</th>\n",
       "      <td>-0.481070</td>\n",
       "      <td>-0.215285</td>\n",
       "      <td>-0.316782</td>\n",
       "      <td>-0.223385</td>\n",
       "      <td>-0.361801</td>\n",
       "      <td>0.400901</td>\n",
       "      <td>-0.153758</td>\n",
       "      <td>-0.501478</td>\n",
       "      <td>-0.072316</td>\n",
       "    </tr>\n",
       "    <tr>\n",
       "      <th>popUpWidnow</th>\n",
       "      <td>0.340286</td>\n",
       "      <td>0.141308</td>\n",
       "      <td>0.031803</td>\n",
       "      <td>0.319463</td>\n",
       "      <td>0.490057</td>\n",
       "      <td>0.416691</td>\n",
       "      <td>0.054572</td>\n",
       "      <td>-0.586858</td>\n",
       "      <td>0.001287</td>\n",
       "    </tr>\n",
       "    <tr>\n",
       "      <th>SSLfinal_State</th>\n",
       "      <td>0.345896</td>\n",
       "      <td>0.241132</td>\n",
       "      <td>0.565934</td>\n",
       "      <td>-0.346873</td>\n",
       "      <td>-0.520984</td>\n",
       "      <td>0.145935</td>\n",
       "      <td>0.170198</td>\n",
       "      <td>-0.214874</td>\n",
       "      <td>0.117257</td>\n",
       "    </tr>\n",
       "    <tr>\n",
       "      <th>Request_URL</th>\n",
       "      <td>-0.191669</td>\n",
       "      <td>0.065857</td>\n",
       "      <td>-0.244052</td>\n",
       "      <td>-0.113612</td>\n",
       "      <td>0.082350</td>\n",
       "      <td>-0.054202</td>\n",
       "      <td>0.874590</td>\n",
       "      <td>-0.058023</td>\n",
       "      <td>0.329338</td>\n",
       "    </tr>\n",
       "    <tr>\n",
       "      <th>URL_of_Anchor</th>\n",
       "      <td>0.080176</td>\n",
       "      <td>0.014783</td>\n",
       "      <td>-0.128313</td>\n",
       "      <td>0.794406</td>\n",
       "      <td>-0.569508</td>\n",
       "      <td>0.010925</td>\n",
       "      <td>0.144079</td>\n",
       "      <td>0.021100</td>\n",
       "      <td>-0.012029</td>\n",
       "    </tr>\n",
       "    <tr>\n",
       "      <th>web_traffic</th>\n",
       "      <td>-0.504361</td>\n",
       "      <td>-0.343152</td>\n",
       "      <td>0.673304</td>\n",
       "      <td>0.269974</td>\n",
       "      <td>0.151151</td>\n",
       "      <td>0.108320</td>\n",
       "      <td>0.035330</td>\n",
       "      <td>0.015351</td>\n",
       "      <td>0.256082</td>\n",
       "    </tr>\n",
       "    <tr>\n",
       "      <th>URL_Length</th>\n",
       "      <td>-0.171241</td>\n",
       "      <td>0.512215</td>\n",
       "      <td>-0.120791</td>\n",
       "      <td>0.062817</td>\n",
       "      <td>-0.014062</td>\n",
       "      <td>-0.125913</td>\n",
       "      <td>-0.384855</td>\n",
       "      <td>-0.083664</td>\n",
       "      <td>0.720147</td>\n",
       "    </tr>\n",
       "    <tr>\n",
       "      <th>age_of_domain</th>\n",
       "      <td>0.453280</td>\n",
       "      <td>-0.689440</td>\n",
       "      <td>-0.163417</td>\n",
       "      <td>-0.074321</td>\n",
       "      <td>-0.056642</td>\n",
       "      <td>0.000503</td>\n",
       "      <td>-0.096385</td>\n",
       "      <td>-0.007245</td>\n",
       "      <td>0.523861</td>\n",
       "    </tr>\n",
       "    <tr>\n",
       "      <th>having_IP_Address</th>\n",
       "      <td>0.028296</td>\n",
       "      <td>0.124658</td>\n",
       "      <td>-0.087733</td>\n",
       "      <td>-0.037115</td>\n",
       "      <td>0.012056</td>\n",
       "      <td>0.783394</td>\n",
       "      <td>0.009776</td>\n",
       "      <td>0.588937</td>\n",
       "      <td>0.117436</td>\n",
       "    </tr>\n",
       "  </tbody>\n",
       "</table>\n",
       "</div>"
      ],
      "text/plain": [
       "                        PC1       PC2       PC3       PC4       PC5       PC6  \\\n",
       "SFH               -0.481070 -0.215285 -0.316782 -0.223385 -0.361801  0.400901   \n",
       "popUpWidnow        0.340286  0.141308  0.031803  0.319463  0.490057  0.416691   \n",
       "SSLfinal_State     0.345896  0.241132  0.565934 -0.346873 -0.520984  0.145935   \n",
       "Request_URL       -0.191669  0.065857 -0.244052 -0.113612  0.082350 -0.054202   \n",
       "URL_of_Anchor      0.080176  0.014783 -0.128313  0.794406 -0.569508  0.010925   \n",
       "web_traffic       -0.504361 -0.343152  0.673304  0.269974  0.151151  0.108320   \n",
       "URL_Length        -0.171241  0.512215 -0.120791  0.062817 -0.014062 -0.125913   \n",
       "age_of_domain      0.453280 -0.689440 -0.163417 -0.074321 -0.056642  0.000503   \n",
       "having_IP_Address  0.028296  0.124658 -0.087733 -0.037115  0.012056  0.783394   \n",
       "\n",
       "                        PC7       PC8       PC9  \n",
       "SFH               -0.153758 -0.501478 -0.072316  \n",
       "popUpWidnow        0.054572 -0.586858  0.001287  \n",
       "SSLfinal_State     0.170198 -0.214874  0.117257  \n",
       "Request_URL        0.874590 -0.058023  0.329338  \n",
       "URL_of_Anchor      0.144079  0.021100 -0.012029  \n",
       "web_traffic        0.035330  0.015351  0.256082  \n",
       "URL_Length        -0.384855 -0.083664  0.720147  \n",
       "age_of_domain     -0.096385 -0.007245  0.523861  \n",
       "having_IP_Address  0.009776  0.588937  0.117436  "
      ]
     },
     "execution_count": 11,
     "metadata": {},
     "output_type": "execute_result"
    }
   ],
   "source": [
    "column_list = x.columns\n",
    "princ_comp = ['PC' + str(x) for x in range(1,10)]\n",
    "pd.DataFrame(data = pca.components_, columns = princ_comp, index = column_list)"
   ]
  },
  {
   "cell_type": "code",
   "execution_count": 15,
   "id": "9c84dea8",
   "metadata": {},
   "outputs": [
    {
     "name": "stdout",
     "output_type": "stream",
     "text": [
      "           PC1       PC2\n",
      "0    -0.014842 -0.267062\n",
      "1     0.510244 -0.846211\n",
      "2    -0.014835 -0.386149\n",
      "3    -0.322934 -0.404754\n",
      "4     0.238636 -0.625237\n",
      "...        ...       ...\n",
      "1348  0.458989 -1.083128\n",
      "1349  0.123323 -0.612594\n",
      "1350  1.130154 -0.244557\n",
      "1351 -0.221234 -0.224708\n",
      "1352 -0.252883  0.937053\n",
      "\n",
      "[1353 rows x 2 columns]\n"
     ]
    }
   ],
   "source": [
    "#select PCA top 2 features \n",
    "x_pca =  pca.transform(x)\n",
    "pca_data = pd.DataFrame(x_pca, columns = princ_comp)\n",
    "pca_data = pca_data.loc[:, ['PC1', 'PC2']]\n",
    "\n",
    "print(pca_data)"
   ]
  },
  {
   "cell_type": "code",
   "execution_count": 17,
   "id": "87db9d5d",
   "metadata": {},
   "outputs": [
    {
     "data": {
      "text/html": [
       "<div>\n",
       "<style scoped>\n",
       "    .dataframe tbody tr th:only-of-type {\n",
       "        vertical-align: middle;\n",
       "    }\n",
       "\n",
       "    .dataframe tbody tr th {\n",
       "        vertical-align: top;\n",
       "    }\n",
       "\n",
       "    .dataframe thead th {\n",
       "        text-align: right;\n",
       "    }\n",
       "</style>\n",
       "<table border=\"1\" class=\"dataframe\">\n",
       "  <thead>\n",
       "    <tr style=\"text-align: right;\">\n",
       "      <th></th>\n",
       "      <th>PC1</th>\n",
       "      <th>PC2</th>\n",
       "      <th>Result</th>\n",
       "    </tr>\n",
       "  </thead>\n",
       "  <tbody>\n",
       "    <tr>\n",
       "      <th>0</th>\n",
       "      <td>-0.014842</td>\n",
       "      <td>-0.267062</td>\n",
       "      <td>0</td>\n",
       "    </tr>\n",
       "    <tr>\n",
       "      <th>1</th>\n",
       "      <td>0.510244</td>\n",
       "      <td>-0.846211</td>\n",
       "      <td>1</td>\n",
       "    </tr>\n",
       "    <tr>\n",
       "      <th>2</th>\n",
       "      <td>-0.014835</td>\n",
       "      <td>-0.386149</td>\n",
       "      <td>1</td>\n",
       "    </tr>\n",
       "    <tr>\n",
       "      <th>3</th>\n",
       "      <td>-0.322934</td>\n",
       "      <td>-0.404754</td>\n",
       "      <td>0</td>\n",
       "    </tr>\n",
       "    <tr>\n",
       "      <th>4</th>\n",
       "      <td>0.238636</td>\n",
       "      <td>-0.625237</td>\n",
       "      <td>1</td>\n",
       "    </tr>\n",
       "    <tr>\n",
       "      <th>...</th>\n",
       "      <td>...</td>\n",
       "      <td>...</td>\n",
       "      <td>...</td>\n",
       "    </tr>\n",
       "    <tr>\n",
       "      <th>1348</th>\n",
       "      <td>0.458989</td>\n",
       "      <td>-1.083128</td>\n",
       "      <td>1</td>\n",
       "    </tr>\n",
       "    <tr>\n",
       "      <th>1349</th>\n",
       "      <td>0.123323</td>\n",
       "      <td>-0.612594</td>\n",
       "      <td>-1</td>\n",
       "    </tr>\n",
       "    <tr>\n",
       "      <th>1350</th>\n",
       "      <td>1.130154</td>\n",
       "      <td>-0.244557</td>\n",
       "      <td>1</td>\n",
       "    </tr>\n",
       "    <tr>\n",
       "      <th>1351</th>\n",
       "      <td>-0.221234</td>\n",
       "      <td>-0.224708</td>\n",
       "      <td>1</td>\n",
       "    </tr>\n",
       "    <tr>\n",
       "      <th>1352</th>\n",
       "      <td>-0.252883</td>\n",
       "      <td>0.937053</td>\n",
       "      <td>-1</td>\n",
       "    </tr>\n",
       "  </tbody>\n",
       "</table>\n",
       "<p>1353 rows × 3 columns</p>\n",
       "</div>"
      ],
      "text/plain": [
       "           PC1       PC2  Result\n",
       "0    -0.014842 -0.267062       0\n",
       "1     0.510244 -0.846211       1\n",
       "2    -0.014835 -0.386149       1\n",
       "3    -0.322934 -0.404754       0\n",
       "4     0.238636 -0.625237       1\n",
       "...        ...       ...     ...\n",
       "1348  0.458989 -1.083128       1\n",
       "1349  0.123323 -0.612594      -1\n",
       "1350  1.130154 -0.244557       1\n",
       "1351 -0.221234 -0.224708       1\n",
       "1352 -0.252883  0.937053      -1\n",
       "\n",
       "[1353 rows x 3 columns]"
      ]
     },
     "execution_count": 17,
     "metadata": {},
     "output_type": "execute_result"
    }
   ],
   "source": [
    "projected_data = pd.concat([pca_data, y], axis = 1)\n",
    "projected_data"
   ]
  },
  {
   "cell_type": "code",
   "execution_count": 18,
   "id": "f3aaf9f0",
   "metadata": {},
   "outputs": [
    {
     "data": {
      "text/plain": [
       "Text(0, 0.5, 'Second component')"
      ]
     },
     "execution_count": 18,
     "metadata": {},
     "output_type": "execute_result"
    },
    {
     "data": {
      "image/png": "[encoded data removed]",
      "text/plain": [
       "<Figure size 432x432 with 1 Axes>"
      ]
     },
     "metadata": {
      "needs_background": "light"
     },
     "output_type": "display_data"
    }
   ],
   "source": [
    "#displaying 2 components of PCA\n",
    "plt.figure(figsize=(6,6))\n",
    "plt.scatter(x_pca[:,0],x_pca[:,1],c=y)\n",
    "plt.xlabel('First component')\n",
    "plt.ylabel('Second component')"
   ]
  },
  {
   "cell_type": "markdown",
   "id": "4723aae0",
   "metadata": {},
   "source": [
    "## SOM - Non Linear Dimentionality reduction"
   ]
  },
  {
   "cell_type": "code",
   "execution_count": 19,
   "id": "05cda03c",
   "metadata": {},
   "outputs": [],
   "source": [
    "from minisom import MiniSom"
   ]
  },
  {
   "cell_type": "code",
   "execution_count": 20,
   "id": "239c155c",
   "metadata": {},
   "outputs": [],
   "source": [
    "som = MiniSom( x = 10, y = 10, input_len = 9, sigma = 1.0, learning_rate = 0.5, neighborhood_function='gaussian')"
   ]
  },
  {
   "cell_type": "code",
   "execution_count": 21,
   "id": "7251e970",
   "metadata": {},
   "outputs": [],
   "source": [
    "x = x.to_numpy()\n",
    "som.random_weights_init(x)"
   ]
  },
  {
   "cell_type": "code",
   "execution_count": 22,
   "id": "7c34f804",
   "metadata": {},
   "outputs": [],
   "source": [
    "som.train_random(data = x, num_iteration = 100)"
   ]
  },
  {
   "cell_type": "code",
   "execution_count": 28,
   "id": "11f2555d",
   "metadata": {},
   "outputs": [],
   "source": [
    "scaled_y = y.to_numpy()\n",
    "scaled_y = list(map(int, scaled_y))"
   ]
  },
  {
   "cell_type": "code",
   "execution_count": 29,
   "id": "1d01670b",
   "metadata": {},
   "outputs": [
    {
     "data": {
      "image/png": "[encoded data removed]",
      "text/plain": [
       "<Figure size 432x288 with 2 Axes>"
      ]
     },
     "metadata": {
      "needs_background": "light"
     },
     "output_type": "display_data"
    }
   ],
   "source": [
    "# making a self organization map \n",
    "from pylab import bone, pcolor, colorbar, plot, show \n",
    "bone() \n",
    "pcolor(som.distance_map().T) \n",
    "colorbar() \n",
    "markers = [\"d\", \"v\", \"s\"] \n",
    "colors = ['pink', 'green', 'cyan'] \n",
    "for i, x in enumerate(x):\n",
    "    W = som.winner(x) \n",
    "    plot(W[0] + 0.5,\n",
    "    W[1] + 0.5, markers[y[i]], markeredgecolor = colors [y[i]], markerfacecolor = 'None', markersize = 10,\n",
    "    markeredgewidth = 2) \n",
    "show()"
   ]
  },
  {
   "cell_type": "code",
   "execution_count": 30,
   "id": "85a98251",
   "metadata": {},
   "outputs": [],
   "source": [
    "import GEMA"
   ]
  },
  {
   "cell_type": "code",
   "execution_count": 31,
   "id": "72c26101",
   "metadata": {},
   "outputs": [
    {
     "data": {
      "text/plain": [
       "array([[ 1,  1, -1],\n",
       "       [-1, -1, -1],\n",
       "       [ 1,  0, -1],\n",
       "       ...,\n",
       "       [-1, -1, -1],\n",
       "       [ 0,  1,  0],\n",
       "       [ 1,  1,  1]], dtype=int64)"
      ]
     },
     "execution_count": 31,
     "metadata": {},
     "output_type": "execute_result"
    }
   ],
   "source": [
    "x=df[['SFH','SSLfinal_State','URL_of_Anchor']]\n",
    "x=x.to_numpy()\n",
    "x"
   ]
  },
  {
   "cell_type": "code",
   "execution_count": 32,
   "id": "af90c931",
   "metadata": {},
   "outputs": [
    {
     "name": "stdout",
     "output_type": "stream",
     "text": [
      "TRAINING...\n"
     ]
    },
    {
     "data": {
      "application/vnd.jupyter.widget-view+json": {
       "model_id": "1e3c64c48ff741728b5a3c451061b044",
       "version_major": 2,
       "version_minor": 0
      },
      "text/plain": [
       "  0%|          | 0/5000 [00:00<?, ?it/s]"
      ]
     },
     "metadata": {},
     "output_type": "display_data"
    },
    {
     "name": "stdout",
     "output_type": "stream",
     "text": [
      "FINISHED.\n"
     ]
    }
   ],
   "source": [
    "main_map = GEMA.Map(x, \n",
    "                    9, \n",
    "                    period=5000, \n",
    "                    initial_lr=0.05, \n",
    "                    initial_neighbourhood = 0,\n",
    "                    distance = 'euclidean',\n",
    "                    use_decay= False,\n",
    "                    normalization = 'none',\n",
    "                    presentation= 'random',\n",
    "                    weights = 'random')"
   ]
  },
  {
   "cell_type": "code",
   "execution_count": 33,
   "id": "107c4e97",
   "metadata": {},
   "outputs": [
    {
     "data": {
      "application/vnd.jupyter.widget-view+json": {
       "model_id": "cc056dae759d45eab008d055c49af692",
       "version_major": 2,
       "version_minor": 0
      },
      "text/plain": [
       "  0%|          | 0/1353 [00:00<?, ?it/s]"
      ]
     },
     "metadata": {},
     "output_type": "display_data"
    }
   ],
   "source": [
    "main_classification = GEMA.Classification(main_map, x)"
   ]
  },
  {
   "cell_type": "code",
   "execution_count": 34,
   "id": "23526a1b",
   "metadata": {},
   "outputs": [
    {
     "data": {
      "text/plain": [
       "<matplotlib.image.AxesImage at 0x1b29fcdba00>"
      ]
     },
     "execution_count": 34,
     "metadata": {},
     "output_type": "execute_result"
    },
    {
     "data": {
      "image/png": "[encoded data removed]",
      "text/plain": [
       "<Figure size 432x288 with 1 Axes>"
      ]
     },
     "metadata": {
      "needs_background": "light"
     },
     "output_type": "display_data"
    }
   ],
   "source": [
    "from matplotlib.pyplot import imshow\n",
    "image_matrix = (main_map.weights-main_map.weights.min())/(main_map.weights.max()-main_map.weights.min())\n",
    "imshow(image_matrix)"
   ]
  },
  {
   "cell_type": "code",
   "execution_count": null,
   "id": "d9dfca41",
   "metadata": {},
   "outputs": [],
   "source": []
  }
 ],
 "metadata": {
  "kernelspec": {
   "display_name": "Python 3 (ipykernel)",
   "language": "python",
   "name": "python3"
  },
  "language_info": {
   "codemirror_mode": {
    "name": "ipython",
    "version": 3
   },
   "file_extension": ".py",
   "mimetype": "text/x-python",
   "name": "python",
   "nbconvert_exporter": "python",
   "pygments_lexer": "ipython3",
   "version": "3.9.12"
  }
 },
 "nbformat": 4,
 "nbformat_minor": 5
}
