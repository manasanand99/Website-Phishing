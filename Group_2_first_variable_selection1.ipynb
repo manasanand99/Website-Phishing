{
 "cells": [
  {
   "cell_type": "code",
   "execution_count": 1,
   "id": "d6b60c8a",
   "metadata": {},
   "outputs": [],
   "source": [
    "import pandas as pd\n",
    "from sklearn.linear_model import LogisticRegression\n",
    "import seaborn as sns"
   ]
  },
  {
   "cell_type": "code",
   "execution_count": 2,
   "id": "64df8b73",
   "metadata": {},
   "outputs": [],
   "source": [
    "data=pd.read_csv(\"Group_2_data_cleaned.csv\")"
   ]
  },
  {
   "cell_type": "code",
   "execution_count": 3,
   "id": "f07435a0",
   "metadata": {},
   "outputs": [],
   "source": [
    "#Dropping the unnamed column\n",
    "data=data.drop('Unnamed: 0',axis=1)"
   ]
  },
  {
   "cell_type": "code",
   "execution_count": 4,
   "id": "299168dd",
   "metadata": {},
   "outputs": [],
   "source": [
    "X = data.drop(columns=['Result'])\n",
    "y = data.Result.values"
   ]
  },
  {
   "cell_type": "markdown",
   "id": "aa5fb88d",
   "metadata": {},
   "source": [
    "## Variable selection using Correlation"
   ]
  },
  {
   "cell_type": "code",
   "execution_count": 5,
   "id": "c99d75fd",
   "metadata": {},
   "outputs": [
    {
     "data": {
      "text/html": [
       "<div>\n",
       "<style scoped>\n",
       "    .dataframe tbody tr th:only-of-type {\n",
       "        vertical-align: middle;\n",
       "    }\n",
       "\n",
       "    .dataframe tbody tr th {\n",
       "        vertical-align: top;\n",
       "    }\n",
       "\n",
       "    .dataframe thead th {\n",
       "        text-align: right;\n",
       "    }\n",
       "</style>\n",
       "<table border=\"1\" class=\"dataframe\">\n",
       "  <thead>\n",
       "    <tr style=\"text-align: right;\">\n",
       "      <th></th>\n",
       "      <th>SFH</th>\n",
       "      <th>popUpWidnow</th>\n",
       "      <th>SSLfinal_State</th>\n",
       "      <th>Request_URL</th>\n",
       "      <th>URL_of_Anchor</th>\n",
       "      <th>web_traffic</th>\n",
       "      <th>URL_Length</th>\n",
       "      <th>age_of_domain</th>\n",
       "      <th>having_IP_Address</th>\n",
       "      <th>Result</th>\n",
       "    </tr>\n",
       "  </thead>\n",
       "  <tbody>\n",
       "    <tr>\n",
       "      <th>SFH</th>\n",
       "      <td>1.000000</td>\n",
       "      <td>0.375943</td>\n",
       "      <td>0.368690</td>\n",
       "      <td>0.257247</td>\n",
       "      <td>0.333703</td>\n",
       "      <td>-0.187082</td>\n",
       "      <td>0.151503</td>\n",
       "      <td>0.163182</td>\n",
       "      <td>0.043349</td>\n",
       "      <td>-0.678277</td>\n",
       "    </tr>\n",
       "    <tr>\n",
       "      <th>popUpWidnow</th>\n",
       "      <td>0.375943</td>\n",
       "      <td>1.000000</td>\n",
       "      <td>0.218050</td>\n",
       "      <td>0.111520</td>\n",
       "      <td>0.167760</td>\n",
       "      <td>-0.140407</td>\n",
       "      <td>0.136229</td>\n",
       "      <td>0.076815</td>\n",
       "      <td>0.123399</td>\n",
       "      <td>-0.509749</td>\n",
       "    </tr>\n",
       "    <tr>\n",
       "      <th>SSLfinal_State</th>\n",
       "      <td>0.368690</td>\n",
       "      <td>0.218050</td>\n",
       "      <td>1.000000</td>\n",
       "      <td>0.057239</td>\n",
       "      <td>0.088525</td>\n",
       "      <td>-0.171719</td>\n",
       "      <td>0.095055</td>\n",
       "      <td>0.208091</td>\n",
       "      <td>0.108000</td>\n",
       "      <td>-0.518762</td>\n",
       "    </tr>\n",
       "    <tr>\n",
       "      <th>Request_URL</th>\n",
       "      <td>0.257247</td>\n",
       "      <td>0.111520</td>\n",
       "      <td>0.057239</td>\n",
       "      <td>1.000000</td>\n",
       "      <td>0.337277</td>\n",
       "      <td>-0.045858</td>\n",
       "      <td>0.048431</td>\n",
       "      <td>0.053348</td>\n",
       "      <td>0.013346</td>\n",
       "      <td>-0.271609</td>\n",
       "    </tr>\n",
       "    <tr>\n",
       "      <th>URL_of_Anchor</th>\n",
       "      <td>0.333703</td>\n",
       "      <td>0.167760</td>\n",
       "      <td>0.088525</td>\n",
       "      <td>0.337277</td>\n",
       "      <td>1.000000</td>\n",
       "      <td>-0.092045</td>\n",
       "      <td>0.097581</td>\n",
       "      <td>0.069178</td>\n",
       "      <td>0.039412</td>\n",
       "      <td>-0.287007</td>\n",
       "    </tr>\n",
       "    <tr>\n",
       "      <th>web_traffic</th>\n",
       "      <td>-0.187082</td>\n",
       "      <td>-0.140407</td>\n",
       "      <td>-0.171719</td>\n",
       "      <td>-0.045858</td>\n",
       "      <td>-0.092045</td>\n",
       "      <td>1.000000</td>\n",
       "      <td>-0.108204</td>\n",
       "      <td>-0.683857</td>\n",
       "      <td>-0.094957</td>\n",
       "      <td>0.243896</td>\n",
       "    </tr>\n",
       "    <tr>\n",
       "      <th>URL_Length</th>\n",
       "      <td>0.151503</td>\n",
       "      <td>0.136229</td>\n",
       "      <td>0.095055</td>\n",
       "      <td>0.048431</td>\n",
       "      <td>0.097581</td>\n",
       "      <td>-0.108204</td>\n",
       "      <td>1.000000</td>\n",
       "      <td>0.075338</td>\n",
       "      <td>0.165152</td>\n",
       "      <td>-0.183061</td>\n",
       "    </tr>\n",
       "    <tr>\n",
       "      <th>age_of_domain</th>\n",
       "      <td>0.163182</td>\n",
       "      <td>0.076815</td>\n",
       "      <td>0.208091</td>\n",
       "      <td>0.053348</td>\n",
       "      <td>0.069178</td>\n",
       "      <td>-0.683857</td>\n",
       "      <td>0.075338</td>\n",
       "      <td>1.000000</td>\n",
       "      <td>0.040379</td>\n",
       "      <td>-0.231931</td>\n",
       "    </tr>\n",
       "    <tr>\n",
       "      <th>having_IP_Address</th>\n",
       "      <td>0.043349</td>\n",
       "      <td>0.123399</td>\n",
       "      <td>0.108000</td>\n",
       "      <td>0.013346</td>\n",
       "      <td>0.039412</td>\n",
       "      <td>-0.094957</td>\n",
       "      <td>0.165152</td>\n",
       "      <td>0.040379</td>\n",
       "      <td>1.000000</td>\n",
       "      <td>-0.059225</td>\n",
       "    </tr>\n",
       "    <tr>\n",
       "      <th>Result</th>\n",
       "      <td>-0.678277</td>\n",
       "      <td>-0.509749</td>\n",
       "      <td>-0.518762</td>\n",
       "      <td>-0.271609</td>\n",
       "      <td>-0.287007</td>\n",
       "      <td>0.243896</td>\n",
       "      <td>-0.183061</td>\n",
       "      <td>-0.231931</td>\n",
       "      <td>-0.059225</td>\n",
       "      <td>1.000000</td>\n",
       "    </tr>\n",
       "  </tbody>\n",
       "</table>\n",
       "</div>"
      ],
      "text/plain": [
       "                        SFH  popUpWidnow  SSLfinal_State  Request_URL  \\\n",
       "SFH                1.000000     0.375943        0.368690     0.257247   \n",
       "popUpWidnow        0.375943     1.000000        0.218050     0.111520   \n",
       "SSLfinal_State     0.368690     0.218050        1.000000     0.057239   \n",
       "Request_URL        0.257247     0.111520        0.057239     1.000000   \n",
       "URL_of_Anchor      0.333703     0.167760        0.088525     0.337277   \n",
       "web_traffic       -0.187082    -0.140407       -0.171719    -0.045858   \n",
       "URL_Length         0.151503     0.136229        0.095055     0.048431   \n",
       "age_of_domain      0.163182     0.076815        0.208091     0.053348   \n",
       "having_IP_Address  0.043349     0.123399        0.108000     0.013346   \n",
       "Result            -0.678277    -0.509749       -0.518762    -0.271609   \n",
       "\n",
       "                   URL_of_Anchor  web_traffic  URL_Length  age_of_domain  \\\n",
       "SFH                     0.333703    -0.187082    0.151503       0.163182   \n",
       "popUpWidnow             0.167760    -0.140407    0.136229       0.076815   \n",
       "SSLfinal_State          0.088525    -0.171719    0.095055       0.208091   \n",
       "Request_URL             0.337277    -0.045858    0.048431       0.053348   \n",
       "URL_of_Anchor           1.000000    -0.092045    0.097581       0.069178   \n",
       "web_traffic            -0.092045     1.000000   -0.108204      -0.683857   \n",
       "URL_Length              0.097581    -0.108204    1.000000       0.075338   \n",
       "age_of_domain           0.069178    -0.683857    0.075338       1.000000   \n",
       "having_IP_Address       0.039412    -0.094957    0.165152       0.040379   \n",
       "Result                 -0.287007     0.243896   -0.183061      -0.231931   \n",
       "\n",
       "                   having_IP_Address    Result  \n",
       "SFH                         0.043349 -0.678277  \n",
       "popUpWidnow                 0.123399 -0.509749  \n",
       "SSLfinal_State              0.108000 -0.518762  \n",
       "Request_URL                 0.013346 -0.271609  \n",
       "URL_of_Anchor               0.039412 -0.287007  \n",
       "web_traffic                -0.094957  0.243896  \n",
       "URL_Length                  0.165152 -0.183061  \n",
       "age_of_domain               0.040379 -0.231931  \n",
       "having_IP_Address           1.000000 -0.059225  \n",
       "Result                     -0.059225  1.000000  "
      ]
     },
     "execution_count": 5,
     "metadata": {},
     "output_type": "execute_result"
    }
   ],
   "source": [
    "data.corr()"
   ]
  },
  {
   "cell_type": "code",
   "execution_count": 6,
   "id": "0e593fee",
   "metadata": {},
   "outputs": [
    {
     "data": {
      "text/plain": [
       "<AxesSubplot:>"
      ]
     },
     "execution_count": 6,
     "metadata": {},
     "output_type": "execute_result"
    },
    {
     "data": {
      "image/png": "[encoded data removed]",
      "text/plain": [
       "<Figure size 432x288 with 2 Axes>"
      ]
     },
     "metadata": {
      "needs_background": "light"
     },
     "output_type": "display_data"
    }
   ],
   "source": [
    "sns.heatmap(data=data.corr(), annot=True) #, cmap=\"coolwarm\");"
   ]
  },
  {
   "cell_type": "markdown",
   "id": "1e214cf3",
   "metadata": {},
   "source": [
    "#### From, the above correlation matrix, 'age_of_domain' and 'web_traffic' are in strong negative correlation with correlation coefficient -0.68. Hence, one out of this two can be eliminated for data modelling."
   ]
  },
  {
   "cell_type": "markdown",
   "id": "9470e126",
   "metadata": {},
   "source": [
    "## Variable selection using LASSO"
   ]
  },
  {
   "cell_type": "code",
   "execution_count": 7,
   "id": "ab3bdd06",
   "metadata": {},
   "outputs": [
    {
     "data": {
      "text/html": [
       "<div>\n",
       "<style scoped>\n",
       "    .dataframe tbody tr th:only-of-type {\n",
       "        vertical-align: middle;\n",
       "    }\n",
       "\n",
       "    .dataframe tbody tr th {\n",
       "        vertical-align: top;\n",
       "    }\n",
       "\n",
       "    .dataframe thead th {\n",
       "        text-align: right;\n",
       "    }\n",
       "</style>\n",
       "<table border=\"1\" class=\"dataframe\">\n",
       "  <thead>\n",
       "    <tr style=\"text-align: right;\">\n",
       "      <th></th>\n",
       "      <th>feature names</th>\n",
       "      <th>coef</th>\n",
       "    </tr>\n",
       "  </thead>\n",
       "  <tbody>\n",
       "    <tr>\n",
       "      <th>0</th>\n",
       "      <td>SFH</td>\n",
       "      <td>1.562902</td>\n",
       "    </tr>\n",
       "    <tr>\n",
       "      <th>1</th>\n",
       "      <td>popUpWidnow</td>\n",
       "      <td>1.674627</td>\n",
       "    </tr>\n",
       "    <tr>\n",
       "      <th>2</th>\n",
       "      <td>SSLfinal_State</td>\n",
       "      <td>1.305904</td>\n",
       "    </tr>\n",
       "    <tr>\n",
       "      <th>3</th>\n",
       "      <td>Request_URL</td>\n",
       "      <td>0.926130</td>\n",
       "    </tr>\n",
       "    <tr>\n",
       "      <th>4</th>\n",
       "      <td>URL_of_Anchor</td>\n",
       "      <td>0.295216</td>\n",
       "    </tr>\n",
       "    <tr>\n",
       "      <th>5</th>\n",
       "      <td>web_traffic</td>\n",
       "      <td>-0.086860</td>\n",
       "    </tr>\n",
       "    <tr>\n",
       "      <th>6</th>\n",
       "      <td>URL_Length</td>\n",
       "      <td>-0.105302</td>\n",
       "    </tr>\n",
       "    <tr>\n",
       "      <th>7</th>\n",
       "      <td>age_of_domain</td>\n",
       "      <td>0.184797</td>\n",
       "    </tr>\n",
       "    <tr>\n",
       "      <th>8</th>\n",
       "      <td>having_IP_Address</td>\n",
       "      <td>-0.596621</td>\n",
       "    </tr>\n",
       "  </tbody>\n",
       "</table>\n",
       "</div>"
      ],
      "text/plain": [
       "       feature names      coef\n",
       "0                SFH  1.562902\n",
       "1        popUpWidnow  1.674627\n",
       "2     SSLfinal_State  1.305904\n",
       "3        Request_URL  0.926130\n",
       "4      URL_of_Anchor  0.295216\n",
       "5        web_traffic -0.086860\n",
       "6         URL_Length -0.105302\n",
       "7      age_of_domain  0.184797\n",
       "8  having_IP_Address -0.596621"
      ]
     },
     "execution_count": 7,
     "metadata": {},
     "output_type": "execute_result"
    }
   ],
   "source": [
    "model = LogisticRegression(solver='liblinear',penalty='l1').fit(X, y)\n",
    "\n",
    "pd.DataFrame({'feature names':model.feature_names_in_, 'coef': list(model.coef_[0])})"
   ]
  },
  {
   "cell_type": "markdown",
   "id": "bfb044f8",
   "metadata": {},
   "source": [
    "#### We consider only those features that have a coefficient different from 0. So from the features above we can discard web_traffic as it is nearer to 0 i.e it has 0 importance."
   ]
  },
  {
   "cell_type": "markdown",
   "id": "4a5be798",
   "metadata": {},
   "source": [
    "## Validating Performance of the models with selected feature"
   ]
  },
  {
   "cell_type": "code",
   "execution_count": 8,
   "id": "d8ce99f0",
   "metadata": {},
   "outputs": [],
   "source": [
    "# X_selected = data[['SFH', 'popUpWidnow', 'SSLfinal_State', 'Request_URL']]\n",
    "X_selected = data.drop(columns=['Result','web_traffic'])\n",
    "y_selected = data.Result.values"
   ]
  },
  {
   "cell_type": "code",
   "execution_count": 9,
   "id": "51660e42",
   "metadata": {},
   "outputs": [],
   "source": [
    "#splitting the train and test data\n",
    "from sklearn.model_selection import train_test_split\n",
    "X_train_full, X_test, y_train_full, y_test = train_test_split(X_selected, y_selected,random_state=42,stratify=y, test_size=0.25 )\n",
    "\n",
    "X_train, X_valid, y_train, y_valid = train_test_split(X_train_full, y_train_full, test_size=0.25, random_state=42)"
   ]
  },
  {
   "cell_type": "code",
   "execution_count": 10,
   "id": "40cd7093",
   "metadata": {},
   "outputs": [],
   "source": [
    "from imblearn.over_sampling import SMOTE\n",
    "X_sampled, y_sampled= SMOTE().fit_resample(X_train_full,y_train_full)"
   ]
  },
  {
   "cell_type": "code",
   "execution_count": 11,
   "id": "8252c44b",
   "metadata": {},
   "outputs": [
    {
     "data": {
      "text/html": [
       "<style>#sk-container-id-1 {color: black;background-color: white;}#sk-container-id-1 pre{padding: 0;}#sk-container-id-1 div.sk-toggleable {background-color: white;}#sk-container-id-1 label.sk-toggleable__label {cursor: pointer;display: block;width: 100%;margin-bottom: 0;padding: 0.3em;box-sizing: border-box;text-align: center;}#sk-container-id-1 label.sk-toggleable__label-arrow:before {content: \"▸\";float: left;margin-right: 0.25em;color: #696969;}#sk-container-id-1 label.sk-toggleable__label-arrow:hover:before {color: black;}#sk-container-id-1 div.sk-estimator:hover label.sk-toggleable__label-arrow:before {color: black;}#sk-container-id-1 div.sk-toggleable__content {max-height: 0;max-width: 0;overflow: hidden;text-align: left;background-color: #f0f8ff;}#sk-container-id-1 div.sk-toggleable__content pre {margin: 0.2em;color: black;border-radius: 0.25em;background-color: #f0f8ff;}#sk-container-id-1 input.sk-toggleable__control:checked~div.sk-toggleable__content {max-height: 200px;max-width: 100%;overflow: auto;}#sk-container-id-1 input.sk-toggleable__control:checked~label.sk-toggleable__label-arrow:before {content: \"▾\";}#sk-container-id-1 div.sk-estimator input.sk-toggleable__control:checked~label.sk-toggleable__label {background-color: #d4ebff;}#sk-container-id-1 div.sk-label input.sk-toggleable__control:checked~label.sk-toggleable__label {background-color: #d4ebff;}#sk-container-id-1 input.sk-hidden--visually {border: 0;clip: rect(1px 1px 1px 1px);clip: rect(1px, 1px, 1px, 1px);height: 1px;margin: -1px;overflow: hidden;padding: 0;position: absolute;width: 1px;}#sk-container-id-1 div.sk-estimator {font-family: monospace;background-color: #f0f8ff;border: 1px dotted black;border-radius: 0.25em;box-sizing: border-box;margin-bottom: 0.5em;}#sk-container-id-1 div.sk-estimator:hover {background-color: #d4ebff;}#sk-container-id-1 div.sk-parallel-item::after {content: \"\";width: 100%;border-bottom: 1px solid gray;flex-grow: 1;}#sk-container-id-1 div.sk-label:hover label.sk-toggleable__label {background-color: #d4ebff;}#sk-container-id-1 div.sk-serial::before {content: \"\";position: absolute;border-left: 1px solid gray;box-sizing: border-box;top: 0;bottom: 0;left: 50%;z-index: 0;}#sk-container-id-1 div.sk-serial {display: flex;flex-direction: column;align-items: center;background-color: white;padding-right: 0.2em;padding-left: 0.2em;position: relative;}#sk-container-id-1 div.sk-item {position: relative;z-index: 1;}#sk-container-id-1 div.sk-parallel {display: flex;align-items: stretch;justify-content: center;background-color: white;position: relative;}#sk-container-id-1 div.sk-item::before, #sk-container-id-1 div.sk-parallel-item::before {content: \"\";position: absolute;border-left: 1px solid gray;box-sizing: border-box;top: 0;bottom: 0;left: 50%;z-index: -1;}#sk-container-id-1 div.sk-parallel-item {display: flex;flex-direction: column;z-index: 1;position: relative;background-color: white;}#sk-container-id-1 div.sk-parallel-item:first-child::after {align-self: flex-end;width: 50%;}#sk-container-id-1 div.sk-parallel-item:last-child::after {align-self: flex-start;width: 50%;}#sk-container-id-1 div.sk-parallel-item:only-child::after {width: 0;}#sk-container-id-1 div.sk-dashed-wrapped {border: 1px dashed gray;margin: 0 0.4em 0.5em 0.4em;box-sizing: border-box;padding-bottom: 0.4em;background-color: white;}#sk-container-id-1 div.sk-label label {font-family: monospace;font-weight: bold;display: inline-block;line-height: 1.2em;}#sk-container-id-1 div.sk-label-container {text-align: center;}#sk-container-id-1 div.sk-container {/* jupyter's `normalize.less` sets `[hidden] { display: none; }` but bootstrap.min.css set `[hidden] { display: none !important; }` so we also need the `!important` here to be able to override the default hidden behavior on the sphinx rendered scikit-learn.org. See: https://github.com/scikit-learn/scikit-learn/issues/21755 */display: inline-block !important;position: relative;}#sk-container-id-1 div.sk-text-repr-fallback {display: none;}</style><div id=\"sk-container-id-1\" class=\"sk-top-container\"><div class=\"sk-text-repr-fallback\"><pre>SVC(C=1, gamma=1)</pre><b>In a Jupyter environment, please rerun this cell to show the HTML representation or trust the notebook. <br />On GitHub, the HTML representation is unable to render, please try loading this page with nbviewer.org.</b></div><div class=\"sk-container\" hidden><div class=\"sk-item\"><div class=\"sk-estimator sk-toggleable\"><input class=\"sk-toggleable__control sk-hidden--visually\" id=\"sk-estimator-id-1\" type=\"checkbox\" checked><label for=\"sk-estimator-id-1\" class=\"sk-toggleable__label sk-toggleable__label-arrow\">SVC</label><div class=\"sk-toggleable__content\"><pre>SVC(C=1, gamma=1)</pre></div></div></div></div></div>"
      ],
      "text/plain": [
       "SVC(C=1, gamma=1)"
      ]
     },
     "execution_count": 11,
     "metadata": {},
     "output_type": "execute_result"
    }
   ],
   "source": [
    "from sklearn.svm import SVC\n",
    "#Now train the model\n",
    "svm_classifier=SVC(kernel='rbf',C= 1, gamma=1)\n",
    "svm_classifier.fit(X_sampled,y_sampled)\n",
    "svm_classifier"
   ]
  },
  {
   "cell_type": "code",
   "execution_count": 12,
   "id": "de234596",
   "metadata": {},
   "outputs": [
    {
     "data": {
      "text/plain": [
       "array([[123,   3,   8],\n",
       "       [  0,  21,   0],\n",
       "       [  4,   3,  92]], dtype=int64)"
      ]
     },
     "execution_count": 12,
     "metadata": {},
     "output_type": "execute_result"
    }
   ],
   "source": [
    "from sklearn.metrics import confusion_matrix\n",
    "from sklearn.metrics import classification_report\n",
    "cnf=confusion_matrix(y_valid,svm_classifier.predict(X_valid))\n",
    "cnf"
   ]
  },
  {
   "cell_type": "code",
   "execution_count": 13,
   "id": "c878559f",
   "metadata": {},
   "outputs": [
    {
     "data": {
      "text/plain": [
       "Text(0.5, 1.1, 'Confusion matrix')"
      ]
     },
     "execution_count": 13,
     "metadata": {},
     "output_type": "execute_result"
    },
    {
     "data": {
      "image/png": "[encoded data removed]",
      "text/plain": [
       "<Figure size 648x648 with 2 Axes>"
      ]
     },
     "metadata": {
      "needs_background": "light"
     },
     "output_type": "display_data"
    }
   ],
   "source": [
    "#plotting the confusion matrix\n",
    "import matplotlib.pyplot as plt\n",
    "plt.figure(figsize=(9,9))\n",
    "sns.heatmap(cnf, annot=True, fmt=\".3f\", linewidths=.5, square = True, cmap = 'Blues_r');\n",
    "plt.ylabel('Actual label');\n",
    "plt.xlabel('Predicted label');\n",
    "plt.title('Confusion matrix', y=1.1)"
   ]
  },
  {
   "cell_type": "code",
   "execution_count": 14,
   "id": "929e0800",
   "metadata": {},
   "outputs": [
    {
     "name": "stdout",
     "output_type": "stream",
     "text": [
      "              precision    recall  f1-score   support\n",
      "\n",
      "          -1       0.97      0.92      0.94       134\n",
      "           0       0.78      1.00      0.88        21\n",
      "           1       0.92      0.93      0.92        99\n",
      "\n",
      "    accuracy                           0.93       254\n",
      "   macro avg       0.89      0.95      0.91       254\n",
      "weighted avg       0.93      0.93      0.93       254\n",
      "\n"
     ]
    }
   ],
   "source": [
    "print(classification_report(y_valid,svm_classifier.predict(X_valid) ))"
   ]
  },
  {
   "cell_type": "markdown",
   "id": "9d40c2cb",
   "metadata": {},
   "source": [
    "## using selected variable on best model from part-2"
   ]
  },
  {
   "cell_type": "code",
   "execution_count": 15,
   "id": "e59fb9b9",
   "metadata": {},
   "outputs": [
    {
     "data": {
      "text/html": [
       "<style>#sk-container-id-2 {color: black;background-color: white;}#sk-container-id-2 pre{padding: 0;}#sk-container-id-2 div.sk-toggleable {background-color: white;}#sk-container-id-2 label.sk-toggleable__label {cursor: pointer;display: block;width: 100%;margin-bottom: 0;padding: 0.3em;box-sizing: border-box;text-align: center;}#sk-container-id-2 label.sk-toggleable__label-arrow:before {content: \"▸\";float: left;margin-right: 0.25em;color: #696969;}#sk-container-id-2 label.sk-toggleable__label-arrow:hover:before {color: black;}#sk-container-id-2 div.sk-estimator:hover label.sk-toggleable__label-arrow:before {color: black;}#sk-container-id-2 div.sk-toggleable__content {max-height: 0;max-width: 0;overflow: hidden;text-align: left;background-color: #f0f8ff;}#sk-container-id-2 div.sk-toggleable__content pre {margin: 0.2em;color: black;border-radius: 0.25em;background-color: #f0f8ff;}#sk-container-id-2 input.sk-toggleable__control:checked~div.sk-toggleable__content {max-height: 200px;max-width: 100%;overflow: auto;}#sk-container-id-2 input.sk-toggleable__control:checked~label.sk-toggleable__label-arrow:before {content: \"▾\";}#sk-container-id-2 div.sk-estimator input.sk-toggleable__control:checked~label.sk-toggleable__label {background-color: #d4ebff;}#sk-container-id-2 div.sk-label input.sk-toggleable__control:checked~label.sk-toggleable__label {background-color: #d4ebff;}#sk-container-id-2 input.sk-hidden--visually {border: 0;clip: rect(1px 1px 1px 1px);clip: rect(1px, 1px, 1px, 1px);height: 1px;margin: -1px;overflow: hidden;padding: 0;position: absolute;width: 1px;}#sk-container-id-2 div.sk-estimator {font-family: monospace;background-color: #f0f8ff;border: 1px dotted black;border-radius: 0.25em;box-sizing: border-box;margin-bottom: 0.5em;}#sk-container-id-2 div.sk-estimator:hover {background-color: #d4ebff;}#sk-container-id-2 div.sk-parallel-item::after {content: \"\";width: 100%;border-bottom: 1px solid gray;flex-grow: 1;}#sk-container-id-2 div.sk-label:hover label.sk-toggleable__label {background-color: #d4ebff;}#sk-container-id-2 div.sk-serial::before {content: \"\";position: absolute;border-left: 1px solid gray;box-sizing: border-box;top: 0;bottom: 0;left: 50%;z-index: 0;}#sk-container-id-2 div.sk-serial {display: flex;flex-direction: column;align-items: center;background-color: white;padding-right: 0.2em;padding-left: 0.2em;position: relative;}#sk-container-id-2 div.sk-item {position: relative;z-index: 1;}#sk-container-id-2 div.sk-parallel {display: flex;align-items: stretch;justify-content: center;background-color: white;position: relative;}#sk-container-id-2 div.sk-item::before, #sk-container-id-2 div.sk-parallel-item::before {content: \"\";position: absolute;border-left: 1px solid gray;box-sizing: border-box;top: 0;bottom: 0;left: 50%;z-index: -1;}#sk-container-id-2 div.sk-parallel-item {display: flex;flex-direction: column;z-index: 1;position: relative;background-color: white;}#sk-container-id-2 div.sk-parallel-item:first-child::after {align-self: flex-end;width: 50%;}#sk-container-id-2 div.sk-parallel-item:last-child::after {align-self: flex-start;width: 50%;}#sk-container-id-2 div.sk-parallel-item:only-child::after {width: 0;}#sk-container-id-2 div.sk-dashed-wrapped {border: 1px dashed gray;margin: 0 0.4em 0.5em 0.4em;box-sizing: border-box;padding-bottom: 0.4em;background-color: white;}#sk-container-id-2 div.sk-label label {font-family: monospace;font-weight: bold;display: inline-block;line-height: 1.2em;}#sk-container-id-2 div.sk-label-container {text-align: center;}#sk-container-id-2 div.sk-container {/* jupyter's `normalize.less` sets `[hidden] { display: none; }` but bootstrap.min.css set `[hidden] { display: none !important; }` so we also need the `!important` here to be able to override the default hidden behavior on the sphinx rendered scikit-learn.org. See: https://github.com/scikit-learn/scikit-learn/issues/21755 */display: inline-block !important;position: relative;}#sk-container-id-2 div.sk-text-repr-fallback {display: none;}</style><div id=\"sk-container-id-2\" class=\"sk-top-container\"><div class=\"sk-text-repr-fallback\"><pre>RandomForestClassifier(max_depth=70, max_features=&#x27;log2&#x27;, n_estimators=62)</pre><b>In a Jupyter environment, please rerun this cell to show the HTML representation or trust the notebook. <br />On GitHub, the HTML representation is unable to render, please try loading this page with nbviewer.org.</b></div><div class=\"sk-container\" hidden><div class=\"sk-item\"><div class=\"sk-estimator sk-toggleable\"><input class=\"sk-toggleable__control sk-hidden--visually\" id=\"sk-estimator-id-2\" type=\"checkbox\" checked><label for=\"sk-estimator-id-2\" class=\"sk-toggleable__label sk-toggleable__label-arrow\">RandomForestClassifier</label><div class=\"sk-toggleable__content\"><pre>RandomForestClassifier(max_depth=70, max_features=&#x27;log2&#x27;, n_estimators=62)</pre></div></div></div></div></div>"
      ],
      "text/plain": [
       "RandomForestClassifier(max_depth=70, max_features='log2', n_estimators=62)"
      ]
     },
     "execution_count": 15,
     "metadata": {},
     "output_type": "execute_result"
    }
   ],
   "source": [
    "from sklearn.ensemble import RandomForestClassifier\n",
    "model_best_part2 = RandomForestClassifier(max_depth=70, max_features='log2', n_estimators=62)\n",
    "model_best_part2.fit(X_sampled, y_sampled)"
   ]
  },
  {
   "cell_type": "code",
   "execution_count": 16,
   "id": "5b5834bf",
   "metadata": {},
   "outputs": [
    {
     "data": {
      "text/plain": [
       "array([[124,   3,   7],\n",
       "       [  0,  21,   0],\n",
       "       [  2,   3,  94]], dtype=int64)"
      ]
     },
     "execution_count": 16,
     "metadata": {},
     "output_type": "execute_result"
    }
   ],
   "source": [
    "cnf_part2=confusion_matrix(y_valid,model_best_part2.predict(X_valid))\n",
    "cnf_part2"
   ]
  },
  {
   "cell_type": "code",
   "execution_count": 17,
   "id": "62cc0675",
   "metadata": {},
   "outputs": [
    {
     "data": {
      "text/plain": [
       "Text(0.5, 1.1, 'Confusion matrix')"
      ]
     },
     "execution_count": 17,
     "metadata": {},
     "output_type": "execute_result"
    },
    {
     "data": {
      "image/png": "[encoded data removed]",
      "text/plain": [
       "<Figure size 648x648 with 2 Axes>"
      ]
     },
     "metadata": {
      "needs_background": "light"
     },
     "output_type": "display_data"
    }
   ],
   "source": [
    "#plotting the confusion matrix\n",
    "plt.figure(figsize=(9,9))\n",
    "sns.heatmap(cnf_part2, annot=True, fmt=\".3f\", linewidths=.5, square = True, cmap = 'Blues_r');\n",
    "plt.ylabel('Actual label');\n",
    "plt.xlabel('Predicted label');\n",
    "plt.title('Confusion matrix', y=1.1)"
   ]
  },
  {
   "cell_type": "code",
   "execution_count": 18,
   "id": "974e5c1a",
   "metadata": {},
   "outputs": [
    {
     "name": "stdout",
     "output_type": "stream",
     "text": [
      "              precision    recall  f1-score   support\n",
      "\n",
      "          -1       0.98      0.93      0.95       134\n",
      "           0       0.78      1.00      0.88        21\n",
      "           1       0.93      0.95      0.94        99\n",
      "\n",
      "    accuracy                           0.94       254\n",
      "   macro avg       0.90      0.96      0.92       254\n",
      "weighted avg       0.95      0.94      0.94       254\n",
      "\n"
     ]
    }
   ],
   "source": [
    "print(classification_report(y_valid,model_best_part2.predict(X_valid) ))"
   ]
  },
  {
   "cell_type": "code",
   "execution_count": null,
   "id": "fabbde41",
   "metadata": {},
   "outputs": [],
   "source": []
  }
 ],
 "metadata": {
  "kernelspec": {
   "display_name": "Python 3 (ipykernel)",
   "language": "python",
   "name": "python3"
  },
  "language_info": {
   "codemirror_mode": {
    "name": "ipython",
    "version": 3
   },
   "file_extension": ".py",
   "mimetype": "text/x-python",
   "name": "python",
   "nbconvert_exporter": "python",
   "pygments_lexer": "ipython3",
   "version": "3.9.12"
  }
 },
 "nbformat": 4,
 "nbformat_minor": 5
}
